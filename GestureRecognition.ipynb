{
 "cells": [
  {
   "cell_type": "markdown",
   "metadata": {},
   "source": [
    "# Gesture Recognition\n",
    "In this group project, you are going to build a 3D Conv model that will be able to predict the 5 gestures correctly. Please import the following libraries to get started."
   ]
  },
  {
   "cell_type": "code",
   "execution_count": 78,
   "metadata": {},
   "outputs": [],
   "source": [
    "import numpy as np\n",
    "import os\n",
    "from scipy.misc import imread, imresize\n",
    "import datetime\n",
    "import os"
   ]
  },
  {
   "cell_type": "markdown",
   "metadata": {},
   "source": [
    "We set the random seed so that the results don't vary drastically."
   ]
  },
  {
   "cell_type": "code",
   "execution_count": 79,
   "metadata": {},
   "outputs": [],
   "source": [
    "np.random.seed(30)\n",
    "import random as rn\n",
    "rn.seed(30)\n",
    "from keras import backend as K\n",
    "import tensorflow as tf\n",
    "tf.set_random_seed(30)"
   ]
  },
  {
   "cell_type": "markdown",
   "metadata": {},
   "source": [
    "In this block, you read the folder names for training and validation. You also set the `batch_size` here. Note that you set the batch size in such a way that you are able to use the GPU in full capacity. You keep increasing the batch size until the machine throws an error."
   ]
  },
  {
   "cell_type": "code",
   "execution_count": 80,
   "metadata": {},
   "outputs": [],
   "source": [
    "train_doc = np.random.permutation(open('./Project_data/train.csv').readlines())\n",
    "val_doc =   np.random.permutation(open('./Project_data/val.csv').readlines())\n",
    "batch_size = 32"
   ]
  },
  {
   "cell_type": "markdown",
   "metadata": {},
   "source": [
    "## Generator\n",
    "This is one of the most important part of the code. The overall structure of the generator has been given. In the generator, you are going to preprocess the images as you have images of 2 different dimensions as well as create a batch of video frames. You have to experiment with `img_idx`, `y`,`z` and normalization such that you get high accuracy."
   ]
  },
  {
   "cell_type": "code",
   "execution_count": 81,
   "metadata": {},
   "outputs": [],
   "source": [
    "def generator(source_path, folder_list, batch_size):\n",
    "    print( 'Source path = ', source_path, '; batch size =', batch_size)\n",
    "    img_idx = [x for x in range(5,25)] \n",
    "    while True:\n",
    "        t = np.random.permutation(folder_list)\n",
    "        num_batches = len(folder_list)//batch_size # calculate the number of batches\n",
    "        for batch in range(num_batches): # we iterate over the number of batches\n",
    "            #print(\"nb=%d\"%num_batches)\n",
    "            batch_data = np.zeros((batch_size,20,160,160,3)) # x is the number of images you use for each video, (y,z) is the final size of the input images and 3 is the number of channels RGB\n",
    "            batch_labels = np.zeros((batch_size,5)) # batch_labels is the one hot representation of the output\n",
    "            for folder in range(batch_size): # iterate over the batch_size\n",
    "                #print(\"bs=%d\"%batch_size)\n",
    "                imgs = os.listdir(source_path+'/'+ t[folder + (batch*batch_size)].split(';')[0]) # read all the images in the folder\n",
    "                for idx,item in enumerate(img_idx): #  Iterate iver the frames/images of a folder to read them in\n",
    "                    image = imread(source_path+'/'+ t[folder + (batch*batch_size)].strip().split(';')[0]+'/'+imgs[item]).astype(np.float32)\n",
    "\n",
    "                    #if(image.shape[0] != image.shape[1]):\n",
    "                        #image=image[0:120,20:140]\n",
    "                    image = imresize(image, (160, 160))#resize the images to 160x160\n",
    "                     \n",
    "                    #Nomalize and load the images\n",
    "                    batch_data[folder,idx,:,:,0] = (image[:,:,0])/255\n",
    "                    batch_data[folder,idx,:,:,1] = (image[:,:,1])/255\n",
    "                    batch_data[folder,idx,:,:,2] = (image[:,:,2])/255\n",
    "                    \n",
    "                batch_labels[folder, int(t[folder + (batch*batch_size)].strip().split(';')[2])] = 1\n",
    "            yield batch_data, batch_labels #you yield the batch_data and the batch_labels, remember what does yield do\n",
    "        \n",
    "           # write the code for the remaining data points which are left after full batches\n",
    "        if (len(folder_list) != batch_size*num_batches):\n",
    "            batch_size_rem = len(folder_list) - (batch_size*num_batches)\n",
    "            batch_data = np.zeros((batch_size,20,160,160,3)) # x is the number of images you use for each video, (y,z) is the final size of the input images and 3 is the number of channels RGB\n",
    "            batch_labels = np.zeros((batch_size,5)) # 2batch_labels is the one hot representation of the output\n",
    "            for folder in range(batch_size_rem): # iterate over the batch_size\n",
    "                imgs = os.listdir(source_path+'/'+ t[folder + (batch_size*num_batches)].split(';')[0]) # read all the images in the folder\n",
    "                for idx,item in enumerate(img_idx): #  Iterate iver the frames/images of a folder to read them in\n",
    "                    image = imread(source_path+'/'+ t[folder + (num_batches*batch_size)].strip().split(';')[0]+'/'+imgs[item]).astype(np.float32)\n",
    "                    #print(np.shape(image))\n",
    "                    #if(image.shape[0] != image.shape[1]):\n",
    "                        #image=image[0:120,20:140]\n",
    "                    image = imresize(image, (160, 160))#resize the images to 160x160\n",
    "                    \n",
    "                    #Nomalize and load the images\n",
    "                    batch_data[folder,idx,:,:,0] = (image[:,:,0])/255\n",
    "                    batch_data[folder,idx,:,:,1] = (image[:,:,1])/255\n",
    "                    batch_data[folder,idx,:,:,2] = (image[:,:,2])/255\n",
    "                    \n",
    "                batch_labels[folder, int(t[folder + (batch*batch_size)].strip().split(';')[2])] = 1\n",
    "            yield batch_data, batch_labels #you yield the batch_data and the batch_labels, remember what does yield do"
   ]
  },
  {
   "cell_type": "code",
   "execution_count": null,
   "metadata": {},
   "outputs": [],
   "source": []
  },
  {
   "cell_type": "markdown",
   "metadata": {},
   "source": [
    "Note here that a video is represented above in the generator as (number of images, height, width, number of channels). Take this into consideration while creating the model architecture."
   ]
  },
  {
   "cell_type": "code",
   "execution_count": 82,
   "metadata": {},
   "outputs": [
    {
     "name": "stdout",
     "output_type": "stream",
     "text": [
      "# training sequences = 663\n",
      "# validation sequences = 100\n",
      "# epochs = 30\n"
     ]
    }
   ],
   "source": [
    "curr_dt_time = datetime.datetime.now()\n",
    "train_path = './Project_data/train'\n",
    "val_path =  './Project_data/val'\n",
    "num_train_sequences = 663\n",
    "print('# training sequences =', num_train_sequences)\n",
    "num_val_sequences = 100\n",
    "print('# validation sequences =', num_val_sequences)\n",
    "num_epochs = 30\n",
    "print ('# epochs =', num_epochs)"
   ]
  },
  {
   "cell_type": "markdown",
   "metadata": {},
   "source": [
    "## Model\n",
    "Here you make the model using different functionalities that Keras provides. Remember to use `Conv3D` and `MaxPooling3D` and not `Conv2D` and `Maxpooling2D` for a 3D convolution model. You would want to use `TimeDistributed` while building a Conv2D + RNN model. Also remember that the last layer is the softmax. Design the network in such a way that the model is able to give good accuracy on the least number of parameters so that it can fit in the memory of the webcam."
   ]
  },
  {
   "cell_type": "code",
   "execution_count": 83,
   "metadata": {},
   "outputs": [],
   "source": [
    "from keras.models import Sequential, Model\n",
    "from keras.layers import Dense, GRU, Flatten, TimeDistributed, Flatten, BatchNormalization, Activation, Dropout, LSTM\n",
    "from keras.layers.convolutional import Conv3D, MaxPooling3D, Conv2D, MaxPooling2D\n",
    "from keras.callbacks import ModelCheckpoint, ReduceLROnPlateau\n",
    "from keras import optimizers\n",
    "from keras.optimizers import Adam\n",
    "from keras.optimizers import SGD\n",
    " \n",
    "\n",
    "# Define model\n",
    "model = Sequential()\n",
    "\n",
    "model.add(Conv3D(16, kernel_size=(3,3,3), input_shape=(20,160,160,3),padding='same'))\n",
    "#model.add(Dropout(0.25))\n",
    "model.add(Activation('relu'))\n",
    "model.add(BatchNormalization())\n",
    "model.add(MaxPooling3D(pool_size=(2,2,2)))\n",
    "#model.add(Dropout(0.25))\n",
    "\n",
    "model.add(Conv3D(32, kernel_size=(3,3,3), padding='same'))\n",
    "#model.add(Dropout(0.25))\n",
    "model.add(Activation('relu'))\n",
    "model.add(BatchNormalization())\n",
    "model.add(MaxPooling3D(pool_size=(2,2,2)))\n",
    "#model.add(Dropout(0.25))\n",
    "\n",
    "model.add(Conv3D(164, kernel_size=(3,3,3), padding='same'))\n",
    "model.add(Activation('relu'))\n",
    "model.add(BatchNormalization())\n",
    "model.add(MaxPooling3D(pool_size=(2,2,2)))\n",
    "#model.add(Dropout(0.25))\n",
    "\n",
    "model.add(Conv3D(128, kernel_size=(3,3,3), padding='same'))\n",
    "model.add(Activation('relu'))\n",
    "model.add(BatchNormalization())\n",
    "model.add(MaxPooling3D(pool_size=(2,2,2)))\n",
    "#model.add(Dropout(0.25))\n",
    "\n",
    "#Flatten Layers\n",
    "model.add(Flatten())\n",
    "\n",
    "model.add(Dense(256, activation='relu'))\n",
    "model.add(BatchNormalization())\n",
    "model.add(Dropout(0.5))\n",
    "\n",
    "model.add(Dense(512, activation='relu'))\n",
    "model.add(BatchNormalization())\n",
    "model.add(Dropout(0.5))\n",
    "\n",
    "#softmax layer\n",
    "model.add(Dense(5, activation='softmax'))\n",
    "\n"
   ]
  },
  {
   "cell_type": "markdown",
   "metadata": {},
   "source": [
    "Now that you have written the model, the next step is to `compile` the model. When you print the `summary` of the model, you'll see the total number of parameters you have to train."
   ]
  },
  {
   "cell_type": "code",
   "execution_count": 84,
   "metadata": {
    "scrolled": true
   },
   "outputs": [
    {
     "name": "stdout",
     "output_type": "stream",
     "text": [
      "_________________________________________________________________\n",
      "Layer (type)                 Output Shape              Param #   \n",
      "=================================================================\n",
      "conv3d_29 (Conv3D)           (None, 20, 160, 160, 16)  1312      \n",
      "_________________________________________________________________\n",
      "activation_29 (Activation)   (None, 20, 160, 160, 16)  0         \n",
      "_________________________________________________________________\n",
      "batch_normalization_43 (Batc (None, 20, 160, 160, 16)  64        \n",
      "_________________________________________________________________\n",
      "max_pooling3d_29 (MaxPooling (None, 10, 80, 80, 16)    0         \n",
      "_________________________________________________________________\n",
      "conv3d_30 (Conv3D)           (None, 10, 80, 80, 32)    13856     \n",
      "_________________________________________________________________\n",
      "activation_30 (Activation)   (None, 10, 80, 80, 32)    0         \n",
      "_________________________________________________________________\n",
      "batch_normalization_44 (Batc (None, 10, 80, 80, 32)    128       \n",
      "_________________________________________________________________\n",
      "max_pooling3d_30 (MaxPooling (None, 5, 40, 40, 32)     0         \n",
      "_________________________________________________________________\n",
      "conv3d_31 (Conv3D)           (None, 5, 40, 40, 164)    141860    \n",
      "_________________________________________________________________\n",
      "activation_31 (Activation)   (None, 5, 40, 40, 164)    0         \n",
      "_________________________________________________________________\n",
      "batch_normalization_45 (Batc (None, 5, 40, 40, 164)    656       \n",
      "_________________________________________________________________\n",
      "max_pooling3d_31 (MaxPooling (None, 2, 20, 20, 164)    0         \n",
      "_________________________________________________________________\n",
      "conv3d_32 (Conv3D)           (None, 2, 20, 20, 128)    566912    \n",
      "_________________________________________________________________\n",
      "activation_32 (Activation)   (None, 2, 20, 20, 128)    0         \n",
      "_________________________________________________________________\n",
      "batch_normalization_46 (Batc (None, 2, 20, 20, 128)    512       \n",
      "_________________________________________________________________\n",
      "max_pooling3d_32 (MaxPooling (None, 1, 10, 10, 128)    0         \n",
      "_________________________________________________________________\n",
      "flatten_8 (Flatten)          (None, 12800)             0         \n",
      "_________________________________________________________________\n",
      "dense_22 (Dense)             (None, 256)               3277056   \n",
      "_________________________________________________________________\n",
      "batch_normalization_47 (Batc (None, 256)               1024      \n",
      "_________________________________________________________________\n",
      "dropout_18 (Dropout)         (None, 256)               0         \n",
      "_________________________________________________________________\n",
      "dense_23 (Dense)             (None, 512)               131584    \n",
      "_________________________________________________________________\n",
      "batch_normalization_48 (Batc (None, 512)               2048      \n",
      "_________________________________________________________________\n",
      "dropout_19 (Dropout)         (None, 512)               0         \n",
      "_________________________________________________________________\n",
      "dense_24 (Dense)             (None, 5)                 2565      \n",
      "=================================================================\n",
      "Total params: 4,139,577\n",
      "Trainable params: 4,137,361\n",
      "Non-trainable params: 2,216\n",
      "_________________________________________________________________\n",
      "None\n"
     ]
    }
   ],
   "source": [
    "optimiser =Adam(lr=0.0002)\n",
    "model.compile(optimizer=optimiser, loss='categorical_crossentropy', metrics=['categorical_accuracy'])\n",
    "print (model.summary())"
   ]
  },
  {
   "cell_type": "markdown",
   "metadata": {},
   "source": [
    "Let us create the `train_generator` and the `val_generator` which will be used in `.fit_generator`."
   ]
  },
  {
   "cell_type": "code",
   "execution_count": 85,
   "metadata": {},
   "outputs": [],
   "source": [
    "train_generator = generator(train_path, train_doc, batch_size)\n",
    "val_generator = generator(val_path, val_doc, batch_size)"
   ]
  },
  {
   "cell_type": "code",
   "execution_count": 86,
   "metadata": {},
   "outputs": [],
   "source": [
    "model_name = 'model_init' + '_' + str(curr_dt_time).replace(' ','').replace(':','_') + '/'\n",
    "    \n",
    "if not os.path.exists(model_name):\n",
    "    os.mkdir(model_name)\n",
    "        \n",
    "filepath = model_name + 'model-{epoch:05d}-{loss:.5f}-{categorical_accuracy:.5f}-{val_loss:.5f}-{val_categorical_accuracy:.5f}.h5'\n",
    "\n",
    "checkpoint = ModelCheckpoint(filepath, monitor='val_loss', verbose=1, save_best_only=True, save_weights_only=False, mode='min', period=1)\n",
    "\n",
    "LR = ReduceLROnPlateau(monitor='val_loss', factor=0.2, verbose=1, patience=4) \n",
    "callbacks_list = [checkpoint, LR]"
   ]
  },
  {
   "cell_type": "markdown",
   "metadata": {},
   "source": [
    "The `steps_per_epoch` and `validation_steps` are used by `fit_generator` to decide the number of next() calls it need to make."
   ]
  },
  {
   "cell_type": "code",
   "execution_count": 87,
   "metadata": {},
   "outputs": [],
   "source": [
    "if (num_train_sequences%batch_size) == 0:\n",
    "    steps_per_epoch = int(num_train_sequences/batch_size)\n",
    "else:\n",
    "    steps_per_epoch = (num_train_sequences//batch_size) + 1\n",
    "\n",
    "if (num_val_sequences%batch_size) == 0:\n",
    "    validation_steps = int(num_val_sequences/batch_size)\n",
    "else:\n",
    "    validation_steps = (num_val_sequences//batch_size) + 1"
   ]
  },
  {
   "cell_type": "markdown",
   "metadata": {},
   "source": [
    "Let us now fit the model. This will start training the model and with the help of the checkpoints, you'll be able to save the model at the end of each epoch."
   ]
  },
  {
   "cell_type": "code",
   "execution_count": null,
   "metadata": {},
   "outputs": [
    {
     "name": "stdout",
     "output_type": "stream",
     "text": [
      "Source path =  ./Project_data/val ; batch size = 32\n",
      "Source path =  ./Project_data/train ; batch size = 32\n",
      "Epoch 1/30\n"
     ]
    },
    {
     "name": "stderr",
     "output_type": "stream",
     "text": [
      "/mnt/disks/user/anaconda3/lib/python3.6/site-packages/ipykernel_launcher.py:15: DeprecationWarning: `imread` is deprecated!\n",
      "`imread` is deprecated in SciPy 1.0.0, and will be removed in 1.2.0.\n",
      "Use ``imageio.imread`` instead.\n",
      "  from ipykernel import kernelapp as app\n",
      "/mnt/disks/user/anaconda3/lib/python3.6/site-packages/ipykernel_launcher.py:19: DeprecationWarning: `imresize` is deprecated!\n",
      "`imresize` is deprecated in SciPy 1.0.0, and will be removed in 1.2.0.\n",
      "Use ``skimage.transform.resize`` instead.\n"
     ]
    },
    {
     "name": "stdout",
     "output_type": "stream",
     "text": [
      " 2/21 [=>............................] - ETA: 1:59 - loss: 2.6875 - categorical_accuracy: 0.2344"
     ]
    },
    {
     "name": "stderr",
     "output_type": "stream",
     "text": [
      "/mnt/disks/user/anaconda3/lib/python3.6/site-packages/ipykernel_launcher.py:37: DeprecationWarning: `imread` is deprecated!\n",
      "`imread` is deprecated in SciPy 1.0.0, and will be removed in 1.2.0.\n",
      "Use ``imageio.imread`` instead.\n",
      "/mnt/disks/user/anaconda3/lib/python3.6/site-packages/ipykernel_launcher.py:41: DeprecationWarning: `imresize` is deprecated!\n",
      "`imresize` is deprecated in SciPy 1.0.0, and will be removed in 1.2.0.\n",
      "Use ``skimage.transform.resize`` instead.\n"
     ]
    },
    {
     "name": "stdout",
     "output_type": "stream",
     "text": [
      "21/21 [==============================] - 69s 3s/step - loss: 2.1221 - categorical_accuracy: 0.3304 - val_loss: 1.4991 - val_categorical_accuracy: 0.3672\n",
      "\n",
      "Epoch 00001: val_loss improved from inf to 1.49915, saving model to model_init_2020-09-2112_36_26.955049/model-00001-2.12206-0.33036-1.49915-0.36719.h5\n",
      "Epoch 2/30\n",
      "21/21 [==============================] - 55s 3s/step - loss: 1.2259 - categorical_accuracy: 0.5640 - val_loss: 1.0336 - val_categorical_accuracy: 0.4453\n",
      "\n",
      "Epoch 00002: val_loss improved from 1.49915 to 1.03363, saving model to model_init_2020-09-2112_36_26.955049/model-00002-1.22592-0.56399-1.03363-0.44531.h5\n",
      "Epoch 3/30\n",
      "21/21 [==============================] - 59s 3s/step - loss: 1.1544 - categorical_accuracy: 0.5982 - val_loss: 0.8401 - val_categorical_accuracy: 0.4922\n",
      "\n",
      "Epoch 00003: val_loss improved from 1.03363 to 0.84009, saving model to model_init_2020-09-2112_36_26.955049/model-00003-1.15444-0.59821-0.84009-0.49219.h5\n",
      "Epoch 4/30\n",
      "21/21 [==============================] - 59s 3s/step - loss: 0.9133 - categorical_accuracy: 0.6711 - val_loss: 0.9530 - val_categorical_accuracy: 0.4531\n",
      "\n",
      "Epoch 00004: val_loss did not improve from 0.84009\n",
      "Epoch 5/30\n",
      "21/21 [==============================] - 59s 3s/step - loss: 0.8094 - categorical_accuracy: 0.7098 - val_loss: 1.0624 - val_categorical_accuracy: 0.4766\n",
      "\n",
      "Epoch 00005: val_loss did not improve from 0.84009\n",
      "Epoch 6/30\n",
      "21/21 [==============================] - 58s 3s/step - loss: 0.7103 - categorical_accuracy: 0.7455 - val_loss: 0.9346 - val_categorical_accuracy: 0.5156\n",
      "\n",
      "Epoch 00006: val_loss did not improve from 0.84009\n",
      "Epoch 7/30\n",
      "21/21 [==============================] - 59s 3s/step - loss: 0.6753 - categorical_accuracy: 0.7812 - val_loss: 0.7285 - val_categorical_accuracy: 0.5625\n",
      "\n",
      "Epoch 00007: val_loss improved from 0.84009 to 0.72852, saving model to model_init_2020-09-2112_36_26.955049/model-00007-0.67533-0.78125-0.72852-0.56250.h5\n",
      "Epoch 8/30\n",
      "21/21 [==============================] - 59s 3s/step - loss: 0.5953 - categorical_accuracy: 0.7902 - val_loss: 0.7911 - val_categorical_accuracy: 0.5469\n",
      "\n",
      "Epoch 00008: val_loss did not improve from 0.72852\n",
      "Epoch 9/30\n",
      "21/21 [==============================] - 58s 3s/step - loss: 0.5140 - categorical_accuracy: 0.8274 - val_loss: 0.8947 - val_categorical_accuracy: 0.5391\n",
      "\n",
      "Epoch 00009: val_loss did not improve from 0.72852\n",
      "Epoch 10/30\n",
      "21/21 [==============================] - 59s 3s/step - loss: 0.4843 - categorical_accuracy: 0.8289 - val_loss: 0.7438 - val_categorical_accuracy: 0.5312\n",
      "\n",
      "Epoch 00010: val_loss did not improve from 0.72852\n",
      "Epoch 11/30\n",
      "21/21 [==============================] - 59s 3s/step - loss: 0.4223 - categorical_accuracy: 0.8646 - val_loss: 0.7961 - val_categorical_accuracy: 0.5156\n",
      "\n",
      "Epoch 00011: val_loss did not improve from 0.72852\n",
      "\n",
      "Epoch 00011: ReduceLROnPlateau reducing learning rate to 3.9999998989515007e-05.\n",
      "Epoch 12/30\n",
      "21/21 [==============================] - 58s 3s/step - loss: 0.3392 - categorical_accuracy: 0.9077 - val_loss: 0.6473 - val_categorical_accuracy: 0.5547\n",
      "\n",
      "Epoch 00012: val_loss improved from 0.72852 to 0.64733, saving model to model_init_2020-09-2112_36_26.955049/model-00012-0.33916-0.90774-0.64733-0.55469.h5\n",
      "Epoch 13/30\n",
      "21/21 [==============================] - 60s 3s/step - loss: 0.3227 - categorical_accuracy: 0.8973 - val_loss: 0.5583 - val_categorical_accuracy: 0.5859\n",
      "\n",
      "Epoch 00013: val_loss improved from 0.64733 to 0.55827, saving model to model_init_2020-09-2112_36_26.955049/model-00013-0.32265-0.89732-0.55827-0.58594.h5\n",
      "Epoch 14/30\n",
      "21/21 [==============================] - 60s 3s/step - loss: 0.3433 - categorical_accuracy: 0.8943 - val_loss: 0.6362 - val_categorical_accuracy: 0.5938\n",
      "\n",
      "Epoch 00014: val_loss did not improve from 0.55827\n",
      "Epoch 15/30\n",
      "11/21 [==============>...............] - ETA: 27s - loss: 0.1840 - categorical_accuracy: 0.9318"
     ]
    }
   ],
   "source": [
    "model.fit_generator(train_generator, steps_per_epoch=steps_per_epoch, epochs=num_epochs, verbose=1, \n",
    "                    callbacks=callbacks_list, validation_data=val_generator, \n",
    "                    validation_steps=validation_steps, class_weight=None, workers=1, initial_epoch=0)"
   ]
  },
  {
   "cell_type": "code",
   "execution_count": null,
   "metadata": {},
   "outputs": [],
   "source": []
  },
  {
   "cell_type": "code",
   "execution_count": null,
   "metadata": {},
   "outputs": [],
   "source": []
  }
 ],
 "metadata": {
  "kernelspec": {
   "display_name": "Python 3",
   "language": "python",
   "name": "python3"
  },
  "language_info": {
   "codemirror_mode": {
    "name": "ipython",
    "version": 3
   },
   "file_extension": ".py",
   "mimetype": "text/x-python",
   "name": "python",
   "nbconvert_exporter": "python",
   "pygments_lexer": "ipython3",
   "version": "3.6.8"
  }
 },
 "nbformat": 4,
 "nbformat_minor": 2
}
